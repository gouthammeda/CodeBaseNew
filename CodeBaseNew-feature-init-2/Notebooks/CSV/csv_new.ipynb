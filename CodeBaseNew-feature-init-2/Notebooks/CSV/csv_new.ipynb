{
 "cells": [
  {
   "cell_type": "markdown",
   "metadata": {
    "application/vnd.databricks.v1+cell": {
     "cellMetadata": {},
     "inputWidgets": {},
     "nuid": "a7993dd7-19f7-49b6-a022-89464a56768a",
     "showTitle": false,
     "title": ""
    }
   },
   "source": [
    "<b>Notebook Highlights:</b>\n",
    "\n",
    "--> Different ways to read csv data from object store(s3), DBFS\n",
    "\n",
    "--> Datframe functions like col, select, where, withColumn, lit\n",
    "\n",
    "--> read_files sql function\n",
    "\n",
    "--> Different ways to create temporary views in databricks.\n",
    "    \n"
   ]
  },
  {
   "cell_type": "markdown",
   "metadata": {
    "application/vnd.databricks.v1+cell": {
     "cellMetadata": {},
     "inputWidgets": {},
     "nuid": "c3504809-4f66-4a4c-a052-5474fa7e0344",
     "showTitle": false,
     "title": ""
    }
   },
   "source": [
    "<b>Supported spark csv reader options</b>\n",
    "\n",
    "https://spark.apache.org/docs/latest/sql-data-sources-csv.html\n",
    "\n",
    "<b>Work with malformed CSV records<b>\n",
    "\n",
    "When reading CSV files with a specified schema, it is possible that the data in the files does not match the schema. For example, a field containing name of the city will not parse as an integer. The consequences depend on the mode that the parser runs in:\n",
    "\n",
    "<b>PERMISSIVE (default)</b>: nulls are inserted for fields that could not be parsed correctly\n",
    "\n",
    "<b>DROPMALFORMED</b>: drops lines that contain fields that could not be parsed\n",
    "\n",
    "<b>FAILFAST</b>: aborts the reading if any malformed data is found\n",
    "\n",
    "<b>Note : CSV Reader will return DataFrame as an output</b>\n",
    "\n"
   ]
  },
  {
   "cell_type": "code",
   "execution_count": 0,
   "metadata": {
    "application/vnd.databricks.v1+cell": {
     "cellMetadata": {
      "byteLimit": 2048000,
      "rowLimit": 10000
     },
     "inputWidgets": {},
     "nuid": "aa06501e-62c7-4561-a720-bc158e96d91f",
     "showTitle": false,
     "title": ""
    }
   },
   "outputs": [],
   "source": [
    "df = spark \\\n",
    "     .read \\\n",
    "     .format('csv') \\\n",
    "     .option(\"header\",'true') \\\n",
    "     .option(\"inferSchema\",'true')\\\n",
    "     .load('s3://goutham-databricks/healthcare/healthcare_data/allergies.csv')\n",
    "     # .load('/Volumes/test/s3_test/health-care/allergies.csv')\n",
    "\n",
    "\"\"\"\n",
    "     The show() function in Spark DataFrame is used to display the contents of the DataFrame in a tabular format.\n",
    "     Spark will display a certain number of rows from the DataFrame, usually the first 20 rows by default\n",
    "     Here are some common arguments you can pass \n",
    "     numRows: Specifies the number of rows to display. By default, it displays the first 20 rows.\n",
    "     truncate: Specifies whether to truncate the displayed data if it's too wide. Truncation means cutting off some characters to fit the data within the display width. By default, it's set to True\n",
    "     vertical: Specifies whether to display the output in a vertical format. By default, it's set to False, meaning the data is displayed horizontally.\n",
    "     Usage:\n",
    "     n: An alias for numRows.\n",
    "     df.show(n=100, truncate=False, vertical=True)  # Display without truncating and in vertical format\n",
    "\"\"\"\n",
    "# display(df)\n",
    "\n",
    "df.show(100,False)"
   ]
  },
  {
   "cell_type": "markdown",
   "metadata": {
    "application/vnd.databricks.v1+cell": {
     "cellMetadata": {},
     "inputWidgets": {},
     "nuid": "fb05a2bf-7780-4fa3-a118-f28adabb90bb",
     "showTitle": false,
     "title": ""
    }
   },
   "source": [
    "Spark DataFrame as a table of data with rows and columns, kind of like a spreadsheet. \n",
    "\n",
    "It's a distributed collection of data organized into named columns, similar to a relational database table. \n",
    "\n",
    "The key difference is that it can handle massive amounts of data across a cluster of computers, making it ideal for big data processing tasks. \n",
    "\n",
    "So, you can perform various operations on this data, like filtering, aggregating, joining, and analyzing, using Spark's distributed computing power. \n",
    "\n",
    "It's a powerful tool for handling large-scale data processing tasks efficiently.\n",
    "\n"
   ]
  },
  {
   "cell_type": "code",
   "execution_count": 0,
   "metadata": {
    "application/vnd.databricks.v1+cell": {
     "cellMetadata": {
      "byteLimit": 2048000,
      "rowLimit": 10000
     },
     "inputWidgets": {},
     "nuid": "c319ec3c-12cf-4a91-b4d4-691c6015b106",
     "showTitle": false,
     "title": ""
    }
   },
   "outputs": [],
   "source": [
    "options = {\n",
    "    \"header\":\"true\",\n",
    "    \"inferSchema\":\"true\"\n",
    "}\n",
    "df = spark \\\n",
    "     .read \\\n",
    "     .format('csv') \\\n",
    "     .options(**options) \\\n",
    "     .load('s3://goutham-databricks/healthcare/healthcare_data/claims.csv')\n",
    "    #  s3://goutham-databricks/healthcare/healthcare_data/\n",
    "    \n",
    "\n",
    "\"\"\"\n",
    "display() function is a powerful tool for visualizing and exploring data. It's particularly useful for working with Spark DataFrames in a Databricks notebook environment.\n",
    "Here's what you can do with it.\n",
    "Viewing DataFrames\n",
    "Plotting Charts\n",
    "Data Profiling\n",
    "    powerful tool for understanding the structure and characteristics of your data. It provides summary statistics and insights about the columns in your DataFrame, helping you identify patterns, anomalies, and potential issues in your data. Here's what you can expect from the data profiling feature:\n",
    "\n",
    "    Summary Statistics: Databricks automatically computes summary statistics for each column in your DataFrame, such as count, mean, standard deviation, minimum, maximum, and quantiles. This gives you a quick overview of the distribution and range of values in your data.\n",
    "\n",
    "    Data Quality Metrics: In addition to summary statistics, Databricks calculates data quality metrics for each column, such as the percentage of missing values, distinct values, and the most frequent values. This helps you assess the completeness and uniqueness of your data.\n",
    "\n",
    "    Histograms and Frequency Distributions: Databricks generates histograms and frequency distributions for numerical columns, allowing you to visualize the distribution of values and identify any outliers or unusual patterns.\n",
    "\n",
    "    Top Values: For categorical columns, Databricks displays the top values and their frequencies, giving you insights into the most common categories and their prevalence in the data.\n",
    "\n",
    "    Data Profiling Insights: Databricks provides additional insights and recommendations based on the data profiling results, highlighting potential issues or areas for further investigation. For example, it may flag columns with a high percentage of missing values or suggest data transformations to improve data quality.\n",
    "Note: display is a databricks related function doesn't work in all the spark environments\n",
    "\"\"\"\n",
    "display(df)"
   ]
  },
  {
   "cell_type": "markdown",
   "metadata": {
    "application/vnd.databricks.v1+cell": {
     "cellMetadata": {},
     "inputWidgets": {},
     "nuid": "9b761e63-1a33-4bfd-bd6b-b3712f7ad9bb",
     "showTitle": false,
     "title": ""
    }
   },
   "source": [
    "The <b>printSchema()</b> function is a method commonly used in Apache Spark to display the schema of a DataFrame. A schema in Spark defines the structure of the data, including the data types of each column."
   ]
  },
  {
   "cell_type": "code",
   "execution_count": 0,
   "metadata": {
    "application/vnd.databricks.v1+cell": {
     "cellMetadata": {
      "byteLimit": 2048000,
      "rowLimit": 10000
     },
     "inputWidgets": {},
     "nuid": "23d5440a-59b9-44eb-8f69-95877f3bd27d",
     "showTitle": false,
     "title": ""
    }
   },
   "outputs": [],
   "source": [
    "df.printSchema()"
   ]
  },
  {
   "cell_type": "code",
   "execution_count": 0,
   "metadata": {
    "application/vnd.databricks.v1+cell": {
     "cellMetadata": {
      "byteLimit": 2048000,
      "rowLimit": 10000
     },
     "inputWidgets": {},
     "nuid": "d6527788-5796-4458-81c3-b8977c4e3d98",
     "showTitle": false,
     "title": ""
    }
   },
   "outputs": [],
   "source": [
    "df.schema.json()"
   ]
  },
  {
   "cell_type": "code",
   "execution_count": 0,
   "metadata": {
    "application/vnd.databricks.v1+cell": {
     "cellMetadata": {
      "byteLimit": 2048000,
      "rowLimit": 10000
     },
     "inputWidgets": {},
     "nuid": "f3145c3f-1510-48bb-a7bb-149ed0471362",
     "showTitle": false,
     "title": ""
    }
   },
   "outputs": [],
   "source": [
    "from pyspark.sql.types import StructType, StructField, StringType, IntegerType, DoubleType, TimestampType\n",
    "\n",
    "schema = StructType([\n",
    "    StructField('ID', StringType(), True),\n",
    "    StructField('CLAIMID', StringType(), True),\n",
    "    StructField('CHARGEID', IntegerType(), True),\n",
    "    StructField('PATIENTID', StringType(), True),\n",
    "    StructField('TYPE', StringType(), True),\n",
    "    StructField('AMOUNT', DoubleType(), True),\n",
    "    StructField('METHOD', StringType(), True),\n",
    "    StructField('FROMDATE', TimestampType(), True),\n",
    "    StructField('TODATE', TimestampType(), True),\n",
    "    StructField('PLACEOFSERVICE', StringType(), True),\n",
    "    StructField('PROCEDURECODE', DoubleType(), True),\n",
    "    StructField('MODIFIER1', StringType(), True),\n",
    "    StructField('MODIFIER2', StringType(), True),\n",
    "    StructField('DIAGNOSISREF1', IntegerType(), True),\n",
    "    StructField('DIAGNOSISREF2', IntegerType(), True),\n",
    "    StructField('DIAGNOSISREF3', IntegerType(), True),\n",
    "    StructField('DIAGNOSISREF4', IntegerType(), True),\n",
    "    StructField('UNITS', IntegerType(), True),\n",
    "    StructField('DEPARTMENTID', IntegerType(), True),\n",
    "    StructField('NOTES', StringType(), True),\n",
    "    StructField('UNITAMOUNT', DoubleType(), True),\n",
    "    StructField('TRANSFEROUTID', IntegerType(), True),\n",
    "    StructField('TRANSFERTYPE', StringType(), True),\n",
    "    StructField('PAYMENTS', DoubleType(), True),\n",
    "    StructField('ADJUSTMENTS', IntegerType(), True),\n",
    "    StructField('TRANSFERS', DoubleType(), True),\n",
    "    StructField('OUTSTANDING', DoubleType(), True),\n",
    "    StructField('APPOINTMENTID', StringType(), True),\n",
    "    StructField('LINENOTE', StringType(), True),\n",
    "    StructField('PATIENTINSURANCEID', StringType(), True),\n",
    "    StructField('FEESCHEDULEID', IntegerType(), True),\n",
    "    StructField('PROVIDERID', StringType(), True),\n",
    "    StructField('SUPERVISINGPROVIDERID', StringType(), True)\n",
    "])\n",
    "\n",
    "df = spark \\\n",
    "     .read \\\n",
    "     .format('csv') \\\n",
    "     .option(\"header\",'true') \\\n",
    "     .schema(schema) \\\n",
    "     .load('s3://goutham-databricks/healthcare/healthcare_data/claims.csv')\n",
    "display(df)"
   ]
  },
  {
   "cell_type": "markdown",
   "metadata": {
    "application/vnd.databricks.v1+cell": {
     "cellMetadata": {},
     "inputWidgets": {},
     "nuid": "2a3b29c6-7141-4a77-856d-f786203165e5",
     "showTitle": false,
     "title": ""
    }
   },
   "source": [
    "When using the PERMISSIVE mode, you can enable the rescued data column to capture any data that wasn’t parsed because one or more fields in a record have one of the following issues:\n",
    "\n",
    "Absent from the provided schema.\n",
    "\n",
    "Does not match the data type of the provided schema.\n",
    "\n",
    "Has a case mismatch with the field names in the provided schema.\n",
    "\n",
    "The rescued data column is returned as a JSON document containing the columns that were rescued, and the source file path of the record. To remove the source file path from the rescued data column, you can set the SQL configuration spark.conf.set(\"spark.databricks.sql.rescuedDataColumn.filePath.enabled\", \"false\"). You can enable the rescued data column by setting the option rescuedDataColumn to a column name when reading data, such as _rescued_data with spark.read.option(\"rescuedDataColumn\", \"_rescued_data\").format(\"csv\").load(<path>).\n",
    "\n",
    "The CSV parser supports three modes when parsing records: PERMISSIVE, DROPMALFORMED, and FAILFAST. When used together with rescuedDataColumn, data type mismatches do not cause records to be dropped in DROPMALFORMED mode or throw an error in FAILFAST mode. Only corrupt records—that is, incomplete or malformed CSV—are dropped or throw errors.\n",
    "\n",
    "When rescuedDataColumn is used in PERMISSIVE mode, the following rules apply to corrupt records:\n",
    "\n",
    "The first row of the file (either a header row or a data row) sets the expected row length.\n",
    "\n",
    "A row with a different number of columns is considered incomplete.\n",
    "\n",
    "Data type mismatches are not considered corrupt records.\n",
    "\n",
    "Only incomplete and malformed CSV records are considered corrupt and recorded to the _corrupt_record column or badRecordsPath."
   ]
  },
  {
   "cell_type": "code",
   "execution_count": 0,
   "metadata": {
    "application/vnd.databricks.v1+cell": {
     "cellMetadata": {
      "byteLimit": 2048000,
      "rowLimit": 10000
     },
     "inputWidgets": {},
     "nuid": "06645d79-cfb9-4e0d-96d8-31effaa4735e",
     "showTitle": false,
     "title": ""
    }
   },
   "outputs": [],
   "source": [
    "%fs\n",
    "ls /databricks-datasets/Rdatasets/"
   ]
  },
  {
   "cell_type": "code",
   "execution_count": 0,
   "metadata": {
    "application/vnd.databricks.v1+cell": {
     "cellMetadata": {
      "byteLimit": 2048000,
      "rowLimit": 10000
     },
     "inputWidgets": {},
     "nuid": "d3d6385d-e234-4ef1-b264-203b4a35a6be",
     "showTitle": false,
     "title": ""
    }
   },
   "outputs": [],
   "source": [
    "display(spark.read.format('csv').load('/databricks-datasets/Rdatasets/data-001/csv/ggplot2/diamonds.csv'))"
   ]
  },
  {
   "cell_type": "markdown",
   "metadata": {
    "application/vnd.databricks.v1+cell": {
     "cellMetadata": {},
     "inputWidgets": {},
     "nuid": "8c5186cd-747b-4987-a310-ec7d00e64223",
     "showTitle": false,
     "title": ""
    }
   },
   "source": [
    "How to identify good records and bad records while loading csv data into spark?\n",
    "\n",
    "The schema contains a special column _corrupt_record, which does not exist in the data. This column captures rows that did not parse correctly.\n",
    "\n",
    "https://spark.apache.org/docs/latest/sql-ref-datatypes.html"
   ]
  },
  {
   "cell_type": "code",
   "execution_count": 0,
   "metadata": {
    "application/vnd.databricks.v1+cell": {
     "cellMetadata": {
      "byteLimit": 2048000,
      "rowLimit": 10000
     },
     "inputWidgets": {},
     "nuid": "c53b8e24-ca81-4932-b940-f0865a5a9525",
     "showTitle": false,
     "title": ""
    }
   },
   "outputs": [],
   "source": [
    "from pyspark.sql.types import StructType, StructField, IntegerType, DoubleType, StringType\n",
    "\n",
    "schema = StructType([\n",
    "    StructField('id', IntegerType(), True),\n",
    "    StructField('carat', DoubleType(), True),\n",
    "    StructField('cut', StringType(), True),\n",
    "    StructField('color', StringType(), True),\n",
    "    StructField('clarity', StringType(), True),\n",
    "    StructField('depth', DoubleType(), True),\n",
    "    StructField('table', DoubleType(), True),\n",
    "    StructField('price', IntegerType(), True),\n",
    "    StructField('x', DoubleType(), True),\n",
    "    StructField('y', DoubleType(), True),\n",
    "    StructField('z', DoubleType(), True),\n",
    "    StructField(\"_corrupt_record\", StringType(), True)\n",
    "])\n",
    "\n",
    "# Adjust the reading of the CSV file to include the schema and capture corrupt records\n",
    "diamonds_with_wrong_schema = spark.read.format(\"csv\") \\\n",
    "    .option(\"header\", \"true\") \\\n",
    "    .schema(schema) \\\n",
    "    .load('s3://goutham-databricks/healthcare/Diamonds.csv')\n",
    "    # .load(\"s3://vidya-sankalp-datasets/health-care/malformed_data/diamonds.csv\")\n",
    "\n",
    "# Now, you can filter based on the `_corrupt_record` column\n",
    "goodRecords_df = diamonds_with_wrong_schema.where(\"_corrupt_record IS NULL\")\n",
    "badRecords_df = diamonds_with_wrong_schema.where(\"_corrupt_record IS NOT NULL\")\n",
    "# Good Records will be propagated to the next layers\n",
    "# Bads records will be moved the expection folders for further analysis.\n",
    "display(badRecords_df)"
   ]
  },
  {
   "cell_type": "markdown",
   "metadata": {
    "application/vnd.databricks.v1+cell": {
     "cellMetadata": {},
     "inputWidgets": {},
     "nuid": "3a933262-c5e6-42ac-b910-5055e3e4a61a",
     "showTitle": false,
     "title": ""
    }
   },
   "source": [
    "<b>select()</b> function is used to select one or more columns from a DataFrame. It allows you to create a new DataFrame containing only the columns you specify.\n",
    "\n",
    "<b>col()</b> function is used to create a Column object representing a column in a DataFrame. This function is commonly used when performing column-based operations, such as selecting, filtering, or transforming data\n",
    "\n",
    "<b>alias()</b> function is used to rename a column in a DataFrame. It allows you to create a new DataFrame with the same data but with the column renamed."
   ]
  },
  {
   "cell_type": "code",
   "execution_count": 0,
   "metadata": {
    "application/vnd.databricks.v1+cell": {
     "cellMetadata": {
      "byteLimit": 2048000,
      "rowLimit": 10000
     },
     "inputWidgets": {},
     "nuid": "905b7cd0-62d8-43cd-b169-7eefa61c945d",
     "showTitle": false,
     "title": ""
    }
   },
   "outputs": [],
   "source": [
    "from pyspark.sql.functions import col\n",
    "\n",
    "ret_df = goodRecords_df.select('id','carat','cut','color')\n",
    "display(ret_df)\n",
    "# ------------------------------------------------------------------------\n",
    "output_df = goodRecords_df.select(col('id'),col('carat'),col('cut'),col('color'))\n",
    "display(output_df)\n",
    "# ------------------------------------------------------------------------\n",
    "output_df = goodRecords_df.select(col('id').alias(\"identifier\"),col('carat'),col('cut'),col('color'))\n",
    "display(output_df)\n",
    "# ------------------------------------------------------------------------\n",
    "columns_list = goodRecords_df.columns\n",
    "ignore_columns = ['_corrupt_record']\n",
    "goodRecords_df  = goodRecords_df.select([col for col in columns_list if col not in ignore_columns])\n",
    "# Now you can propagate the good records to the next layers.\n",
    "display(goodRecords_df)"
   ]
  },
  {
   "cell_type": "markdown",
   "metadata": {
    "application/vnd.databricks.v1+cell": {
     "cellMetadata": {},
     "inputWidgets": {},
     "nuid": "842679af-a762-4538-bd7c-71772ab59330",
     "showTitle": false,
     "title": ""
    }
   },
   "source": [
    "<b>withColumn()</b> function is used to add, replace, or transform a column in a DataFrame. It allows you to create a new DataFrame with additional or modified columns based on existing ones.\n",
    "\n",
    "returns a new DataFrame with the specified modifications, leaving the original DataFrame unchanged.\n",
    "\n",
    "<b>withColumnRenamed()</b> function is used to rename a column in a DataFrame. It allows you to create a new DataFrame with the specified column renamed.\n",
    "\n",
    "<b>lit()</b> is a function used to create a literal value Column. It's often used when you want to add a constant value as a new column or perform transformations that involve literal values.\n",
    "\n",
    "In these examples:\n",
    "\n",
    "<b>lit(123)</b> creates a Column with a literal value of 123. This literal value can be any Python value (string, integer, float, boolean, etc.).\n",
    "\n",
    "<b>df[\"existingColumnName\"] + lit(10)</b> adds a new column \"transformedColumnName\" to the DataFrame, where each value is the sum of the values in the existing column \"existingColumnName\" and 10."
   ]
  },
  {
   "cell_type": "code",
   "execution_count": 0,
   "metadata": {
    "application/vnd.databricks.v1+cell": {
     "cellMetadata": {
      "byteLimit": 2048000,
      "rowLimit": 10000
     },
     "inputWidgets": {},
     "nuid": "f86b278a-2cfa-48b7-8bc2-6588ea79d7cb",
     "showTitle": false,
     "title": ""
    }
   },
   "outputs": [],
   "source": [
    "from pyspark.sql.functions import lit\n",
    "\"\"\"\n",
    "  adding new_price column\n",
    "\"\"\"\n",
    "transformed_df = goodRecords_df.withColumn('new_price',col('price')/(col('x')*col('y')*col('z')))\n",
    "display(transformed_df)\n",
    "\"\"\"\n",
    "  adding two new columns new_int_column,price_2_multiplier \n",
    "\"\"\"\n",
    "transformed_df = transformed_df\\\n",
    "                  .withColumn('new_int_column',lit(123))\\\n",
    "                  .withColumn('price_2_multiplier',col('new_price') * lit(123))\n",
    "\n",
    "display(transformed_df)\n",
    "\n",
    "transformed_df = transformed_df.withColumnRenamed('price_2_multiplier','price_2_multiplier_renamed')\n",
    "\n",
    "display(transformed_df)"
   ]
  },
  {
   "cell_type": "code",
   "execution_count": 0,
   "metadata": {
    "application/vnd.databricks.v1+cell": {
     "cellMetadata": {
      "byteLimit": 2048000,
      "rowLimit": 10000
     },
     "inputWidgets": {},
     "nuid": "02d91166-55b9-4984-babb-f67e43a593f9",
     "showTitle": false,
     "title": ""
    }
   },
   "outputs": [],
   "source": [
    "from pyspark.sql.types import StructType, StructField, IntegerType, DoubleType, StringType\n",
    "spark.conf.set(\"spark.databricks.sql.rescuedDataColumn.filePath.enabled\",\"false\")\n",
    "\n",
    "\n",
    "schema = StructType([\n",
    "    StructField('null', IntegerType(), True),\n",
    "    StructField('carat', DoubleType(), True),\n",
    "    StructField('cut', StringType(), True),\n",
    "    StructField('color', StringType(), True),\n",
    "    StructField('clarity', StringType(), True),\n",
    "    StructField('depth', DoubleType(), True),\n",
    "    StructField('table', DoubleType(), True),\n",
    "    StructField('price', IntegerType(), True),\n",
    "    StructField('x', DoubleType(), True),\n",
    "    StructField('y', DoubleType(), True),\n",
    "    StructField('z', DoubleType(), True)\n",
    "])\n",
    "\n",
    "diamonds_with_wrong_schema = spark.read.format(\"csv\") \\\n",
    "    .option(\"header\", \"true\") \\\n",
    "    .option(\"mode\", \"PERMISSIVE\") \\\n",
    "    .schema(schema)\\\n",
    "    .option(\"rescuedDataColumn\", \"_rescued_data\") \\\n",
    "    .load(\"s3://goutham-databricks/healthcare/Diamonds.csv\")\n",
    "    # .load(\"s3://vidya-sankalp-datasets/health-care/malformed_data/diamonds.csv\")\n",
    "\n",
    "# Now, you can filter based on the `_corrupt_record` column\n",
    "goodRecords_df = diamonds_with_wrong_schema.where(\"_rescued_data IS  NULL\")\n",
    "badRecords_df = diamonds_with_wrong_schema.where(\"_rescued_data IS NOT NULL\")\n",
    "\n",
    "display(diamonds_with_wrong_schema)"
   ]
  },
  {
   "cell_type": "markdown",
   "metadata": {
    "application/vnd.databricks.v1+cell": {
     "cellMetadata": {},
     "inputWidgets": {},
     "nuid": "e88cbd2e-6060-40d6-978a-0d585706fc54",
     "showTitle": false,
     "title": ""
    }
   },
   "source": [
    "Reads files under a provided location and returns the data in tabular form.\n",
    "\n",
    "Supports reading JSON, CSV, XML, TEXT, BINARYFILE, PARQUET, AVRO, and ORC file formats. Can detect the file format automatically and infer a unified schema across all files.\n",
    "\n",
    "<b>Syntax</b>\n",
    "\n",
    "read_files(path [, option_key => option_value ] [...])\n",
    "\n",
    "<b>Arguments</b>\n",
    "This function requires named parameter invocation for the option keys.\n",
    "\n",
    "path: A STRING with the URI of the location of the data. Supports reading from Azure Data Lake Storage Gen2 ('abfss://'), S3 (s3://) and Google Cloud Storage ('gs://'). Can contain globs. See File discovery for more details.\n",
    "\n",
    "option_key: The name of the option to configure. You need to use backticks (`) for options that contain dots (.).\n",
    "\n",
    "option_value: A constant expression to set the option to. Accepts literals and scalar functions.\n",
    "\n",
    "<b>Returns</b>\n",
    "A table comprised of the data from files read under the given path.\n",
    "\n",
    "https://docs.databricks.com/en/sql/language-manual/functions/read_files.html"
   ]
  },
  {
   "cell_type": "code",
   "execution_count": 0,
   "metadata": {
    "application/vnd.databricks.v1+cell": {
     "cellMetadata": {
      "byteLimit": 2048000,
      "implicitDf": true,
      "rowLimit": 10000
     },
     "inputWidgets": {},
     "nuid": "ee78f258-f259-4324-abd1-af6e53e28aa6",
     "showTitle": false,
     "title": ""
    }
   },
   "outputs": [],
   "source": [
    "%sql\n",
    "SELECT * FROM read_files('s3://goutham-databricks/healthcare/healthcare_data/claims.csv');"
   ]
  },
  {
   "cell_type": "code",
   "execution_count": 0,
   "metadata": {
    "application/vnd.databricks.v1+cell": {
     "cellMetadata": {
      "byteLimit": 2048000,
      "implicitDf": true,
      "rowLimit": 10000
     },
     "inputWidgets": {},
     "nuid": "978e3eed-3c67-43db-b9de-6b61bb75c975",
     "showTitle": false,
     "title": ""
    }
   },
   "outputs": [],
   "source": [
    "%sql\n",
    "-- table created is a managed table \n",
    "create or replace table claims as \n",
    "SELECT * FROM read_files(\n",
    "    's3://goutham-databricks/healthcare/healthcare_data/claims.csv',\n",
    "    format => 'csv',\n",
    "    schema => 'ID string, CLAIMID string, CHARGEID integer, PATIENTID string, TYPE string, AMOUNT double, METHOD string, FROMDATE timestamp, TODATE timestamp, PLACEOFSERVICE string, PROCEDURECODE double, MODIFIER1 string, MODIFIER2 string, DIAGNOSISREF1 integer, DIAGNOSISREF2 integer, DIAGNOSISREF3 integer, DIAGNOSISREF4 integer, UNITS integer, DEPARTMENTID integer, NOTES string, UNITAMOUNT double, TRANSFEROUTID integer, TRANSFERTYPE string, PAYMENTS double, ADJUSTMENTS integer, TRANSFERS double, OUTSTANDING double, APPOINTMENTID string, LINENOTE string, PATIENTINSURANCEID string, FEESCHEDULEID integer, PROVIDERID string, SUPERVISINGPROVIDERID string',\n",
    "    header => true,\n",
    "    mode => 'PERMISSIVE',\n",
    "    rescuedDataColumn => 'rescued_column')"
   ]
  },
  {
   "cell_type": "code",
   "execution_count": 0,
   "metadata": {
    "application/vnd.databricks.v1+cell": {
     "cellMetadata": {
      "byteLimit": 2048000,
      "implicitDf": true,
      "rowLimit": 10000
     },
     "inputWidgets": {},
     "nuid": "96a12641-5cbe-49b8-84a4-ce323136d6e7",
     "showTitle": false,
     "title": ""
    }
   },
   "outputs": [],
   "source": [
    "%sql\n",
    "create or replace view claims_bad_records as (select * from claims where rescued_column is not null);\n",
    "create or replace view claims_good_records as (select * from claims where rescued_column is null);\n"
   ]
  },
  {
   "cell_type": "code",
   "execution_count": 0,
   "metadata": {
    "application/vnd.databricks.v1+cell": {
     "cellMetadata": {
      "byteLimit": 2048000,
      "rowLimit": 10000
     },
     "inputWidgets": {},
     "nuid": "4d06ce11-c50b-43fc-8a87-17cf1b0624bd",
     "showTitle": false,
     "title": ""
    }
   },
   "outputs": [],
   "source": [
    "claims_bad_records_df = spark.sql(\"select * from claims_bad_records\")\n",
    "claims_good_records_df = spark.sql(\"select * from claims_good_records\")\n",
    "\n",
    "display(claims_bad_records_df)\n",
    "display(claims_good_records_df)"
   ]
  },
  {
   "cell_type": "markdown",
   "metadata": {
    "application/vnd.databricks.v1+cell": {
     "cellMetadata": {},
     "inputWidgets": {},
     "nuid": "394782e6-4760-425c-8dfa-8555c26871aa",
     "showTitle": false,
     "title": ""
    }
   },
   "source": [
    "https://docs.databricks.com/en/sql/language-manual/sql-ref-syntax-ddl-create-schema.html"
   ]
  },
  {
   "cell_type": "code",
   "execution_count": 0,
   "metadata": {
    "application/vnd.databricks.v1+cell": {
     "cellMetadata": {
      "byteLimit": 2048000,
      "implicitDf": true,
      "rowLimit": 10000
     },
     "inputWidgets": {},
     "nuid": "2ec11e54-be73-42fc-8a78-45ce33e457f9",
     "showTitle": false,
     "title": ""
    }
   },
   "outputs": [],
   "source": [
    "%sql\n",
    "create catalog if not exists lakehouse_dev\n",
    "managed location 's3://goutham-databricks/lakehouse/'"
   ]
  },
  {
   "cell_type": "code",
   "execution_count": 0,
   "metadata": {
    "application/vnd.databricks.v1+cell": {
     "cellMetadata": {
      "byteLimit": 2048000,
      "implicitDf": true,
      "rowLimit": 10000
     },
     "inputWidgets": {},
     "nuid": "d04b4d23-02c6-40ae-98a0-0cb8c9096c6a",
     "showTitle": false,
     "title": ""
    }
   },
   "outputs": [],
   "source": [
    "%sql\n",
    "-- Database and Schema are interchangeable\n",
    "CREATE SCHEMA IF NOT EXISTS lakehouse_dev.vidya_sankalp"
   ]
  },
  {
   "cell_type": "markdown",
   "metadata": {
    "application/vnd.databricks.v1+cell": {
     "cellMetadata": {},
     "inputWidgets": {},
     "nuid": "b4f3d373-f44c-434c-8b3f-3d3e880cf096",
     "showTitle": false,
     "title": ""
    }
   },
   "source": [
    "Need to create a external location in unity catalog before creating a table using CREATE TABLE syntax\n",
    "\n",
    "Note: This is applicable only when workspace is enabled with unity catalog.\n",
    "\n",
    "https://docs.databricks.com/en/connect/unity-catalog/index.html#manage-external-locations\n",
    "\n",
    "https://docs.databricks.com/en/connect/unity-catalog/external-locations.html"
   ]
  },
  {
   "cell_type": "code",
   "execution_count": 0,
   "metadata": {
    "application/vnd.databricks.v1+cell": {
     "cellMetadata": {
      "byteLimit": 2048000,
      "implicitDf": true,
      "rowLimit": 10000
     },
     "inputWidgets": {},
     "nuid": "c6c76413-20c0-4ba5-bc8a-0fbda3b236b2",
     "showTitle": false,
     "title": ""
    }
   },
   "outputs": [],
   "source": [
    "%sql\n",
    "CREATE EXTERNAL TABLE IF NOT EXISTS lakehouse_dev.vidya_sankalp.claims_transactions(\n",
    "  ID string, \n",
    "  CLAIMID string,\n",
    "  CHARGEID integer, \n",
    "  PATIENTID string, \n",
    "  TYPE string, \n",
    "  AMOUNT double, \n",
    "  METHOD string, \n",
    "  FROMDATE timestamp, \n",
    "  TODATE timestamp, \n",
    "  PLACEOFSERVICE string, \n",
    "  PROCEDURECODE double, \n",
    "  MODIFIER1 string, \n",
    "  MODIFIER2 string, \n",
    "  DIAGNOSISREF1 integer, \n",
    "  DIAGNOSISREF2 integer, \n",
    "  DIAGNOSISREF3 integer, \n",
    "  DIAGNOSISREF4 integer, \n",
    "  UNITS integer, \n",
    "  DEPARTMENTID integer, \n",
    "  NOTES string, \n",
    "  UNITAMOUNT double, \n",
    "  TRANSFEROUTID integer, \n",
    "  TRANSFERTYPE string, \n",
    "  PAYMENTS double, \n",
    "  ADJUSTMENTS integer, \n",
    "  TRANSFERS double, \n",
    "  OUTSTANDING double, \n",
    "  APPOINTMENTID string, \n",
    "  LINENOTE string, \n",
    "  PATIENTINSURANCEID string, \n",
    "  FEESCHEDULEID integer, \n",
    "  PROVIDERID string, SUPERVISINGPROVIDERID string\n",
    ")\n",
    "USING CSV \n",
    "LOCATION 's3://goutham-databricks/healthcare/healthcare_data/claims.csv'\n",
    "COMMENT 'this is a claims transactions table'\n",
    "TBLPROPERTIES ('createdDate'='08/27/2024');"
   ]
  },
  {
   "cell_type": "code",
   "execution_count": 0,
   "metadata": {
    "application/vnd.databricks.v1+cell": {
     "cellMetadata": {
      "byteLimit": 2048000,
      "implicitDf": true,
      "rowLimit": 10000
     },
     "inputWidgets": {},
     "nuid": "219b4c44-466d-43ca-ac85-079881495eea",
     "showTitle": false,
     "title": ""
    }
   },
   "outputs": [],
   "source": [
    "%sql\n",
    "select * from lakehouse_dev.vidya_sankalp.claims_transactions;"
   ]
  },
  {
   "cell_type": "markdown",
   "metadata": {
    "application/vnd.databricks.v1+cell": {
     "cellMetadata": {},
     "inputWidgets": {},
     "nuid": "9d707995-cc80-4663-b6f3-942d85398caf",
     "showTitle": false,
     "title": ""
    }
   },
   "source": [
    "https://docs.databricks.com/en/sql/language-manual/sql-ref-syntax-aux-describe-table.html"
   ]
  },
  {
   "cell_type": "code",
   "execution_count": 0,
   "metadata": {
    "application/vnd.databricks.v1+cell": {
     "cellMetadata": {
      "byteLimit": 2048000,
      "implicitDf": true,
      "rowLimit": 10000
     },
     "inputWidgets": {},
     "nuid": "b8d28834-0fbe-4963-9dfe-a374ef3310f7",
     "showTitle": false,
     "title": ""
    }
   },
   "outputs": [],
   "source": [
    "%sql\n",
    "DESCRIBE TABLE lakehouse_dev.vidya_sankalp.claims_transactions"
   ]
  },
  {
   "cell_type": "code",
   "execution_count": 0,
   "metadata": {
    "application/vnd.databricks.v1+cell": {
     "cellMetadata": {
      "byteLimit": 2048000,
      "implicitDf": true,
      "rowLimit": 10000
     },
     "inputWidgets": {},
     "nuid": "5d631fc5-c5d1-4c33-8489-81b1357eec22",
     "showTitle": false,
     "title": ""
    }
   },
   "outputs": [],
   "source": [
    "%sql\n",
    "DESCRIBE TABLE EXTENDED lakehouse_dev.vidya_sankalp.claims_transactions"
   ]
  },
  {
   "cell_type": "code",
   "execution_count": 0,
   "metadata": {
    "application/vnd.databricks.v1+cell": {
     "cellMetadata": {
      "byteLimit": 2048000,
      "implicitDf": true,
      "rowLimit": 10000
     },
     "inputWidgets": {},
     "nuid": "d27f9441-f316-4f01-8514-f22ddc0f554e",
     "showTitle": false,
     "title": ""
    }
   },
   "outputs": [],
   "source": [
    "%sql\n",
    "DESCRIBE SCHEMA lakehouse_dev.vidya_sankalp"
   ]
  },
  {
   "cell_type": "code",
   "execution_count": 0,
   "metadata": {
    "application/vnd.databricks.v1+cell": {
     "cellMetadata": {
      "byteLimit": 2048000,
      "implicitDf": true,
      "rowLimit": 10000
     },
     "inputWidgets": {},
     "nuid": "1e4ca448-62d4-47f2-a786-e40a2a4fb305",
     "showTitle": false,
     "title": ""
    }
   },
   "outputs": [],
   "source": [
    "%sql\n",
    "DESCRIBE SCHEMA EXTENDED lakehouse_dev.vidya_sankalp"
   ]
  },
  {
   "cell_type": "markdown",
   "metadata": {
    "application/vnd.databricks.v1+cell": {
     "cellMetadata": {},
     "inputWidgets": {},
     "nuid": "051940b0-2f06-426e-bb62-d60475af7fa5",
     "showTitle": false,
     "title": ""
    }
   },
   "source": [
    "You can create or replace a temporary view (also known as a temporary table) to make DataFrame data accessible via SQL queries.\n",
    "\n",
    "In the below example:\n",
    "\n",
    "<b>transformed_df</b> is the DataFrame you want to create a temporary view from.\n",
    "\n",
    "<b>\"diamonds_views\"</b> is the name you want to assign to the temporary view.\n",
    "If a temporary view with the same name already exists, it will be replaced with the new DataFrame.\n",
    "\n",
    "After creating the temporary view, you can query it using SQL syntax:\n",
    "\n"
   ]
  },
  {
   "cell_type": "code",
   "execution_count": 0,
   "metadata": {
    "application/vnd.databricks.v1+cell": {
     "cellMetadata": {
      "byteLimit": 2048000,
      "rowLimit": 10000
     },
     "inputWidgets": {},
     "nuid": "47da70b6-dfaa-48d8-8979-7ecd97f04895",
     "showTitle": false,
     "title": ""
    }
   },
   "outputs": [],
   "source": [
    "transformed_df.createOrReplaceTempView(\"diamonds_views\")"
   ]
  },
  {
   "cell_type": "code",
   "execution_count": 0,
   "metadata": {
    "application/vnd.databricks.v1+cell": {
     "cellMetadata": {
      "byteLimit": 2048000,
      "implicitDf": true,
      "rowLimit": 10000
     },
     "inputWidgets": {},
     "nuid": "b448c235-82ac-4f8c-bc0a-2da150e310bb",
     "showTitle": false,
     "title": ""
    }
   },
   "outputs": [],
   "source": [
    "%sql\n",
    "SELECT * FROM diamonds_views"
   ]
  },
  {
   "cell_type": "markdown",
   "metadata": {
    "application/vnd.databricks.v1+cell": {
     "cellMetadata": {},
     "inputWidgets": {},
     "nuid": "b8f0113f-08f6-4341-83cc-dd684f76a09b",
     "showTitle": false,
     "title": ""
    }
   },
   "source": [
    "https://docs.databricks.com/en/sql/language-manual/sql-ref-syntax-ddl-create-view.html"
   ]
  },
  {
   "cell_type": "code",
   "execution_count": 0,
   "metadata": {
    "application/vnd.databricks.v1+cell": {
     "cellMetadata": {
      "byteLimit": 2048000,
      "implicitDf": true,
      "rowLimit": 10000
     },
     "inputWidgets": {},
     "nuid": "611f535d-0358-4da6-802f-db6c087550d7",
     "showTitle": false,
     "title": ""
    }
   },
   "outputs": [],
   "source": [
    "%sql\n",
    "-- create OR REPLACE \n",
    "-- IF NOT EXISTS\n",
    "create TEMPORARY VIEW tmp_diamonds_view\n",
    "    (id COMMENT 'Unique identification number', carat, cut, color, clarity, depth, table, price, x, y, z)\n",
    "    COMMENT 'tmporary view for diamonds table '\n",
    "    AS SELECT id,carat, cut, color, clarity, depth, table, price, x, y, z from diamonds_views"
   ]
  },
  {
   "cell_type": "code",
   "execution_count": 0,
   "metadata": {
    "application/vnd.databricks.v1+cell": {
     "cellMetadata": {
      "byteLimit": 2048000,
      "implicitDf": true,
      "rowLimit": 10000
     },
     "inputWidgets": {},
     "nuid": "7f468591-bb47-4d4d-a7bb-18545973e152",
     "showTitle": false,
     "title": ""
    }
   },
   "outputs": [],
   "source": [
    "%sql\n",
    "select * from tmp_diamonds_view"
   ]
  },
  {
   "cell_type": "code",
   "execution_count": 0,
   "metadata": {
    "application/vnd.databricks.v1+cell": {
     "cellMetadata": {
      "byteLimit": 2048000,
      "implicitDf": true,
      "rowLimit": 10000
     },
     "inputWidgets": {},
     "nuid": "908b9e67-b76c-4648-a752-457693764fb3",
     "showTitle": false,
     "title": ""
    }
   },
   "outputs": [],
   "source": [
    "%sql \n",
    "create table diamonds(\n",
    "  id int \n",
    ")"
   ]
  }
 ],
 "metadata": {
  "application/vnd.databricks.v1+notebook": {
   "dashboards": [],
   "environmentMetadata": {
    "base_environment": "",
    "client": "1"
   },
   "language": "python",
   "notebookMetadata": {
    "mostRecentlyExecutedCommandWithImplicitDF": {
     "commandId": 1900286806348937,
     "dataframes": [
      "_sqldf"
     ]
    },
    "pythonIndentUnit": 4
   },
   "notebookName": "csv_new",
   "widgets": {}
  }
 },
 "nbformat": 4,
 "nbformat_minor": 0
}
